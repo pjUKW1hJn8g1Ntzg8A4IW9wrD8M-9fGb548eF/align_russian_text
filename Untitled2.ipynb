{
  "nbformat": 4,
  "nbformat_minor": 0,
  "metadata": {
    "colab": {
      "provenance": [],
      "authorship_tag": "ABX9TyPN3dL0+kNf+GRyuniHrI1G",
      "include_colab_link": true
    },
    "kernelspec": {
      "name": "python3",
      "display_name": "Python 3"
    },
    "language_info": {
      "name": "python"
    }
  },
  "cells": [
    {
      "cell_type": "markdown",
      "metadata": {
        "id": "view-in-github",
        "colab_type": "text"
      },
      "source": [
        "<a href=\"https://colab.research.google.com/github/pjUKW1hJn8g1Ntzg8A4IW9wrD8M-9fGb548eF/align_russian_text/blob/master/Untitled2.ipynb\" target=\"_parent\"><img src=\"https://colab.research.google.com/assets/colab-badge.svg\" alt=\"Open In Colab\"/></a>"
      ]
    },
    {
      "cell_type": "code",
      "execution_count": null,
      "metadata": {
        "id": "EmgGpCDppr5J"
      },
      "outputs": [],
      "source": [
        "import pandas as pd\n",
        "from sklearn.feature_extraction.text import TfidfVectorizer\n",
        "from sklearn.linear_model import Ridge\n",
        "from sklearn.pipeline import Pipeline\n",
        "from sklearn.model_selection import train_test_split\n",
        "from sklearn.metrics import mean_squared_error\n",
        "\n",
        "train_df = pd.read_csv('train.tsv', sep='\\t')\n",
        "test_df = pd.read_csv('test.tsv', sep='\\t')\n",
        "\n",
        "X_train = train_df['lemmaized_wo_stopwords_raw_description']\n",
        "y_train = train_df['salary_mean_net']\n",
        "X_test = test_df['lemmaized_wo_stopwords_raw_description']\n",
        "\n",
        "pipeline = Pipeline([\n",
        "    ('tfidf', TfidfVectorizer(stop_words='english')),\n",
        "    ('model', Ridge())\n",
        "])\n",
        "\n",
        "pipeline.fit(X_train, y_train)\n",
        "\n",
        "y_pred = pipeline.predict(X_test)\n",
        "\n",
        "output_df = pd.DataFrame({'id': test_df['id'], 'predicted_salary': y_pred})\n",
        "output_df.to_csv('predictions.csv', index=False)\n",
        "\n",
        "print(\"Прогнозы сохранены в файл predictions.csv\")\n"
      ]
    }
  ]
}